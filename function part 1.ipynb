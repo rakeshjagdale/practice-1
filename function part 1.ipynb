{
 "cells": [
  {
   "cell_type": "code",
   "execution_count": 3,
   "id": "5533fa70-1026-4907-a8de-890b02ef189e",
   "metadata": {},
   "outputs": [],
   "source": [
    "# FUNCTION ( how to make function )"
   ]
  },
  {
   "cell_type": "code",
   "execution_count": 5,
   "id": "711459a0-55b3-478e-ae40-244881a3fad0",
   "metadata": {},
   "outputs": [],
   "source": [
    "def test():\n",
    "      pass"
   ]
  },
  {
   "cell_type": "code",
   "execution_count": 6,
   "id": "626be247-16c1-4d5b-bcfb-4c802a1e2b3b",
   "metadata": {},
   "outputs": [
    {
     "data": {
      "text/plain": [
       "<function __main__.test()>"
      ]
     },
     "execution_count": 6,
     "metadata": {},
     "output_type": "execute_result"
    }
   ],
   "source": [
    "test"
   ]
  },
  {
   "cell_type": "code",
   "execution_count": 7,
   "id": "f584f892-2819-488e-853d-40e8304aed3e",
   "metadata": {},
   "outputs": [],
   "source": [
    "def test1 ():\n",
    "    print ('this is my frist function code')"
   ]
  },
  {
   "cell_type": "code",
   "execution_count": 9,
   "id": "79b2e659-4111-4f5d-87cc-e6ae2b9aeddf",
   "metadata": {},
   "outputs": [
    {
     "name": "stdout",
     "output_type": "stream",
     "text": [
      "this is my frist function code\n"
     ]
    }
   ],
   "source": [
    "test1 ()"
   ]
  },
  {
   "cell_type": "code",
   "execution_count": 10,
   "id": "39367c7d-fbfb-4005-b474-b98d83a81af1",
   "metadata": {},
   "outputs": [],
   "source": [
    "def test2():\n",
    "    return ' this  my resturn ' "
   ]
  },
  {
   "cell_type": "code",
   "execution_count": 12,
   "id": "9d93c255-923a-4358-8046-b6e37334d28c",
   "metadata": {},
   "outputs": [
    {
     "data": {
      "text/plain": [
       "' this  my resturn  king'"
      ]
     },
     "execution_count": 12,
     "metadata": {},
     "output_type": "execute_result"
    }
   ],
   "source": [
    "test2() "
   ]
  },
  {
   "cell_type": "code",
   "execution_count": 14,
   "id": "0ab29295-de25-4ff0-aae4-00b7fbd9e465",
   "metadata": {},
   "outputs": [
    {
     "data": {
      "text/plain": [
       "' this  my resturn  king'"
      ]
     },
     "execution_count": 14,
     "metadata": {},
     "output_type": "execute_result"
    }
   ],
   "source": [
    "test2() + ' king' "
   ]
  },
  {
   "cell_type": "code",
   "execution_count": 42,
   "id": "6e988075-c792-4f22-9fa6-349ed33d485f",
   "metadata": {},
   "outputs": [],
   "source": [
    "def test3():\n",
    "    return ' rakesh' , 2,37,[345,353,5], 45,45"
   ]
  },
  {
   "cell_type": "code",
   "execution_count": 43,
   "id": "19df03b5-5e3d-4584-9d80-46d019c8d85b",
   "metadata": {},
   "outputs": [
    {
     "data": {
      "text/plain": [
       "(' rakesh', 2, 37, [345, 353, 5], 45, 45)"
      ]
     },
     "execution_count": 43,
     "metadata": {},
     "output_type": "execute_result"
    }
   ],
   "source": [
    "test3()"
   ]
  },
  {
   "cell_type": "code",
   "execution_count": 44,
   "id": "8ae0be0d-1764-485b-ace6-318e330dda37",
   "metadata": {},
   "outputs": [],
   "source": [
    "a,b,c,d,e,f = test3()"
   ]
  },
  {
   "cell_type": "code",
   "execution_count": 37,
   "id": "776d2b5c-03f5-452d-889f-8a56a2b37ba3",
   "metadata": {},
   "outputs": [
    {
     "data": {
      "text/plain": [
       "' rakesh'"
      ]
     },
     "execution_count": 37,
     "metadata": {},
     "output_type": "execute_result"
    }
   ],
   "source": [
    "a"
   ]
  },
  {
   "cell_type": "code",
   "execution_count": 38,
   "id": "a7c2ef83-06e1-4cff-a168-b5f6908c9509",
   "metadata": {},
   "outputs": [
    {
     "data": {
      "text/plain": [
       "2"
      ]
     },
     "execution_count": 38,
     "metadata": {},
     "output_type": "execute_result"
    }
   ],
   "source": [
    "b"
   ]
  },
  {
   "cell_type": "code",
   "execution_count": 39,
   "id": "cb3ac82e-9b33-45e4-b8a7-0c5a6aa8c5a7",
   "metadata": {},
   "outputs": [
    {
     "data": {
      "text/plain": [
       "37"
      ]
     },
     "execution_count": 39,
     "metadata": {},
     "output_type": "execute_result"
    }
   ],
   "source": [
    "c"
   ]
  },
  {
   "cell_type": "code",
   "execution_count": 40,
   "id": "ef6b4a1b-39d1-41a9-8820-03c4168a4357",
   "metadata": {},
   "outputs": [
    {
     "data": {
      "text/plain": [
       "[345, 353, 5]"
      ]
     },
     "execution_count": 40,
     "metadata": {},
     "output_type": "execute_result"
    }
   ],
   "source": [
    "d"
   ]
  },
  {
   "cell_type": "code",
   "execution_count": 45,
   "id": "b34be8df-2b23-436b-bada-4570bc8891db",
   "metadata": {},
   "outputs": [
    {
     "data": {
      "text/plain": [
       "45"
      ]
     },
     "execution_count": 45,
     "metadata": {},
     "output_type": "execute_result"
    }
   ],
   "source": [
    "f"
   ]
  },
  {
   "cell_type": "code",
   "execution_count": 64,
   "id": "9325f66c-42a1-46f9-bf7e-adc88cdfb648",
   "metadata": {},
   "outputs": [],
   "source": [
    "def test4():\n",
    "    a = 5+6/7\n",
    "    return a"
   ]
  },
  {
   "cell_type": "code",
   "execution_count": 65,
   "id": "b6c233a6-ab5b-4c99-8834-829f5f6074e7",
   "metadata": {},
   "outputs": [
    {
     "data": {
      "text/plain": [
       "5.857142857142857"
      ]
     },
     "execution_count": 65,
     "metadata": {},
     "output_type": "execute_result"
    }
   ],
   "source": [
    "test4()"
   ]
  },
  {
   "cell_type": "code",
   "execution_count": 66,
   "id": "79fcde3d-1763-4dd4-a295-9824cdd18258",
   "metadata": {},
   "outputs": [],
   "source": [
    "def test5 (a,b,c,):\n",
    "    d= a+b/c\n",
    "    return d"
   ]
  },
  {
   "cell_type": "code",
   "execution_count": 68,
   "id": "92a7b6c0-ce4f-4667-b934-a8c3b4566907",
   "metadata": {},
   "outputs": [
    {
     "data": {
      "text/plain": [
       "466.65981308411216"
      ]
     },
     "execution_count": 68,
     "metadata": {},
     "output_type": "execute_result"
    }
   ],
   "source": [
    "test5(466,353,535)"
   ]
  },
  {
   "cell_type": "code",
   "execution_count": 71,
   "id": "107c15f4-4c7d-435a-8677-094c51d9d06e",
   "metadata": {},
   "outputs": [],
   "source": [
    "def test6(A, B):\n",
    "    return A+B"
   ]
  },
  {
   "cell_type": "code",
   "execution_count": 72,
   "id": "46ee4237-1c0a-431a-a183-a95f95bc16c4",
   "metadata": {},
   "outputs": [
    {
     "data": {
      "text/plain": [
       "47"
      ]
     },
     "execution_count": 72,
     "metadata": {},
     "output_type": "execute_result"
    }
   ],
   "source": [
    "test6(23,24)"
   ]
  },
  {
   "cell_type": "code",
   "execution_count": 76,
   "id": "dcb65569-b2a4-4472-993c-310ffb3b8fd7",
   "metadata": {},
   "outputs": [
    {
     "data": {
      "text/plain": [
       "[4, 242, 424, 24, 553, 535, 35]"
      ]
     },
     "execution_count": 76,
     "metadata": {},
     "output_type": "execute_result"
    }
   ],
   "source": [
    "test6 ([4,242,424,24] , [553,535,35])"
   ]
  },
  {
   "cell_type": "code",
   "execution_count": 77,
   "id": "63ef6706-d1d0-4f91-9dce-8e419eda0735",
   "metadata": {},
   "outputs": [],
   "source": [
    " l = [1,313,13,131,31, ' rakesh', 'kumar' , [52422,424,24,242]]"
   ]
  },
  {
   "cell_type": "code",
   "execution_count": 81,
   "id": "ce464ba4-ebe3-425f-8187-48145b866189",
   "metadata": {},
   "outputs": [],
   "source": [
    "l1 = []\n",
    "for i in l :\n",
    "    if type (i) == int or type (i) == float :\n",
    "        l1. append (i)"
   ]
  },
  {
   "cell_type": "code",
   "execution_count": 82,
   "id": "020bb039-a73e-426a-a009-c8bf4a226155",
   "metadata": {},
   "outputs": [
    {
     "data": {
      "text/plain": [
       "[1, 313, 13, 131, 31]"
      ]
     },
     "execution_count": 82,
     "metadata": {},
     "output_type": "execute_result"
    }
   ],
   "source": [
    "l1"
   ]
  },
  {
   "cell_type": "code",
   "execution_count": 85,
   "id": "e0f018d8-bdb8-449e-8e82-ca5192d0bcaa",
   "metadata": {},
   "outputs": [],
   "source": [
    "def test7 (l) :\n",
    "    for i in l :\n",
    "        if type (i) == int or type (i) == float :\n",
    "              l1.append(i)\n",
    "        return l1    "
   ]
  },
  {
   "cell_type": "code",
   "execution_count": 87,
   "id": "365bbe95-82c5-4473-8765-d8829ab6389e",
   "metadata": {},
   "outputs": [
    {
     "data": {
      "text/plain": [
       "[1, 313, 13, 131, 31, 1]"
      ]
     },
     "execution_count": 87,
     "metadata": {},
     "output_type": "execute_result"
    }
   ],
   "source": [
    "test7(l)"
   ]
  },
  {
   "cell_type": "code",
   "execution_count": 134,
   "id": "bdb14771-f0c5-419b-af13-12a2aa8e72c0",
   "metadata": {},
   "outputs": [],
   "source": [
    "def test8 (a) :\n",
    "\n",
    "    l= []\n",
    "    for i in a :\n",
    "        if type (i) == list:\n",
    "            for j in i :\n",
    "                l.append (j)\n",
    "    else :\n",
    "                if type (i) == int or type (i) == float :\n",
    "                    l.append (i)\n",
    "                return l      \n",
    "            "
   ]
  },
  {
   "cell_type": "code",
   "execution_count": 135,
   "id": "61d75a71-98c0-44e9-890e-aff1bcbad3ae",
   "metadata": {},
   "outputs": [
    {
     "data": {
      "text/plain": [
       "[52422, 424, 24, 242]"
      ]
     },
     "execution_count": 135,
     "metadata": {},
     "output_type": "execute_result"
    }
   ],
   "source": [
    "test8(l)"
   ]
  },
  {
   "cell_type": "code",
   "execution_count": null,
   "id": "3b44f615-f8b7-485f-a6ae-b3e45c083dab",
   "metadata": {},
   "outputs": [],
   "source": []
  },
  {
   "cell_type": "code",
   "execution_count": 142,
   "id": "dda8e3ba-bafb-4fd8-892d-79a95f1293a3",
   "metadata": {},
   "outputs": [],
   "source": [
    "    \n",
    "            # Docstring "
   ]
  },
  {
   "cell_type": "code",
   "execution_count": 143,
   "id": "26c8dd32-a4a8-4b31-a343-0536a2bd9ff2",
   "metadata": {},
   "outputs": [],
   "source": [
    "def test9(a) :\n",
    "    ''' this is me '''\n",
    "    \n",
    "    l= []\n",
    "    for i in a :\n",
    "        if type (i) == list:\n",
    "            for j in i :\n",
    "                l.append (j)\n",
    "    else :\n",
    "                if type (i) == int or type (i) == float :\n",
    "                    l.append (i)\n",
    "                return l      \n",
    "            "
   ]
  },
  {
   "cell_type": "code",
   "execution_count": 139,
   "id": "3b9e0766-7101-4a84-878c-168683e888db",
   "metadata": {},
   "outputs": [
    {
     "ename": "TypeError",
     "evalue": "test9() missing 1 required positional argument: 'a'",
     "output_type": "error",
     "traceback": [
      "\u001b[0;31m---------------------------------------------------------------------------\u001b[0m",
      "\u001b[0;31mTypeError\u001b[0m                                 Traceback (most recent call last)",
      "Cell \u001b[0;32mIn[139], line 1\u001b[0m\n\u001b[0;32m----> 1\u001b[0m \u001b[43mtest9\u001b[49m\u001b[43m(\u001b[49m\u001b[43m)\u001b[49m\n",
      "\u001b[0;31mTypeError\u001b[0m: test9() missing 1 required positional argument: 'a'"
     ]
    }
   ],
   "source": [
    "test9()"
   ]
  },
  {
   "cell_type": "code",
   "execution_count": 144,
   "id": "b4ea7ab0-3bd8-4a02-90c3-26d80fb8f250",
   "metadata": {},
   "outputs": [],
   "source": [
    "def test10(a,b):\n",
    "    return a+b"
   ]
  },
  {
   "cell_type": "code",
   "execution_count": 145,
   "id": "31243181-4d85-4a4e-ae8c-ddcdf8e9159e",
   "metadata": {},
   "outputs": [],
   "source": [
    "def test11(*args):\n",
    "    return args"
   ]
  },
  {
   "cell_type": "code",
   "execution_count": 146,
   "id": "9f6505c6-912b-4e06-b976-3ac567056f20",
   "metadata": {},
   "outputs": [
    {
     "data": {
      "text/plain": [
       "tuple"
      ]
     },
     "execution_count": 146,
     "metadata": {},
     "output_type": "execute_result"
    }
   ],
   "source": [
    "type(test11())"
   ]
  },
  {
   "cell_type": "code",
   "execution_count": 147,
   "id": "d0628774-65e8-4561-b49e-87aead67a4d0",
   "metadata": {},
   "outputs": [
    {
     "data": {
      "text/plain": [
       "(1, 2, 3)"
      ]
     },
     "execution_count": 147,
     "metadata": {},
     "output_type": "execute_result"
    }
   ],
   "source": [
    "test11(1,2,3)"
   ]
  },
  {
   "cell_type": "code",
   "execution_count": 149,
   "id": "48365e6d-d8f2-4413-abbf-57b516cb7bb8",
   "metadata": {},
   "outputs": [
    {
     "data": {
      "text/plain": [
       "(44252524, 242, 424, 24, 4, 24, [4141414, 14], 'fwfwfw')"
      ]
     },
     "execution_count": 149,
     "metadata": {},
     "output_type": "execute_result"
    }
   ],
   "source": [
    "test11(44252524,242,424,24,4,24,[4141414,14], 'fwfwfw')"
   ]
  },
  {
   "cell_type": "code",
   "execution_count": 150,
   "id": "884be8af-73b4-4515-906e-510f3338aac7",
   "metadata": {},
   "outputs": [],
   "source": [
    "def test12(*rakesh):\n",
    "    return rakesh"
   ]
  },
  {
   "cell_type": "code",
   "execution_count": 153,
   "id": "7e99779d-1811-4d54-a084-6bb8f1a8aea6",
   "metadata": {},
   "outputs": [
    {
     "data": {
      "text/plain": [
       "('kya bolte bhai',)"
      ]
     },
     "execution_count": 153,
     "metadata": {},
     "output_type": "execute_result"
    }
   ],
   "source": [
    "test12('kya bolte bhai')"
   ]
  },
  {
   "cell_type": "code",
   "execution_count": 155,
   "id": "b359725a-bb66-4beb-83db-b200ec1c3ac2",
   "metadata": {},
   "outputs": [],
   "source": [
    "def test12(*args, a):\n",
    "    return args , a"
   ]
  },
  {
   "cell_type": "code",
   "execution_count": 159,
   "id": "0a252134-41e1-43b4-8e20-aa4575f33413",
   "metadata": {},
   "outputs": [
    {
     "ename": "TypeError",
     "evalue": "test12() missing 1 required keyword-only argument: 'a'",
     "output_type": "error",
     "traceback": [
      "\u001b[0;31m---------------------------------------------------------------------------\u001b[0m",
      "\u001b[0;31mTypeError\u001b[0m                                 Traceback (most recent call last)",
      "Cell \u001b[0;32mIn[159], line 1\u001b[0m\n\u001b[0;32m----> 1\u001b[0m \u001b[43mtest12\u001b[49m\u001b[43m(\u001b[49m\u001b[38;5;241;43m121\u001b[39;49m\u001b[43m,\u001b[49m\u001b[38;5;241;43m2\u001b[39;49m\u001b[43m)\u001b[49m\n",
      "\u001b[0;31mTypeError\u001b[0m: test12() missing 1 required keyword-only argument: 'a'"
     ]
    }
   ],
   "source": [
    "test12(121,2)"
   ]
  },
  {
   "cell_type": "code",
   "execution_count": 158,
   "id": "e69be819-247f-4c26-b26f-238e5e1db116",
   "metadata": {},
   "outputs": [
    {
     "data": {
      "text/plain": [
       "((42424, 4141), 952955)"
      ]
     },
     "execution_count": 158,
     "metadata": {},
     "output_type": "execute_result"
    }
   ],
   "source": [
    "test12(42424, 4141, a = 952955)"
   ]
  },
  {
   "cell_type": "code",
   "execution_count": 162,
   "id": "31faf922-5bb7-4f2d-87b6-c84af13100d5",
   "metadata": {},
   "outputs": [],
   "source": [
    "def test13(c,d,a= 23, b = 2):\n",
    "    return a,b,c,d"
   ]
  },
  {
   "cell_type": "code",
   "execution_count": 163,
   "id": "af986a28-b640-4313-9b3d-2e14e443b82e",
   "metadata": {},
   "outputs": [
    {
     "data": {
      "text/plain": [
       "(23, 2, 323, 232)"
      ]
     },
     "execution_count": 163,
     "metadata": {},
     "output_type": "execute_result"
    }
   ],
   "source": [
    "test13(323,232)"
   ]
  },
  {
   "cell_type": "code",
   "execution_count": 165,
   "id": "749157b5-939f-4988-a428-caa75183982b",
   "metadata": {},
   "outputs": [
    {
     "data": {
      "text/plain": [
       "(2424, 2, 2, 5)"
      ]
     },
     "execution_count": 165,
     "metadata": {},
     "output_type": "execute_result"
    }
   ],
   "source": [
    "test13 (2,5 , a = 2424)"
   ]
  },
  {
   "cell_type": "code",
   "execution_count": 166,
   "id": "62f56946-bc4f-42a3-b338-332dbbdee005",
   "metadata": {},
   "outputs": [],
   "source": [
    "def test15(**kwargs):\n",
    "    return kwargs"
   ]
  },
  {
   "cell_type": "code",
   "execution_count": 168,
   "id": "e0e2c96c-0172-4955-b7c2-6dfe46e57fd9",
   "metadata": {},
   "outputs": [
    {
     "data": {
      "text/plain": [
       "{}"
      ]
     },
     "execution_count": 168,
     "metadata": {},
     "output_type": "execute_result"
    }
   ],
   "source": [
    "test15()"
   ]
  },
  {
   "cell_type": "code",
   "execution_count": 169,
   "id": "0d29c0bc-ebed-424e-993e-4b898edbdda8",
   "metadata": {},
   "outputs": [
    {
     "data": {
      "text/plain": [
       "dict"
      ]
     },
     "execution_count": 169,
     "metadata": {},
     "output_type": "execute_result"
    }
   ],
   "source": [
    "type(test15())"
   ]
  },
  {
   "cell_type": "code",
   "execution_count": 170,
   "id": "b98af7dd-1ac5-4cd9-9591-2eb3d615b119",
   "metadata": {},
   "outputs": [
    {
     "data": {
      "text/plain": [
       "{}"
      ]
     },
     "execution_count": 170,
     "metadata": {},
     "output_type": "execute_result"
    }
   ],
   "source": [
    "test15()"
   ]
  },
  {
   "cell_type": "code",
   "execution_count": null,
   "id": "c23fa677-a309-4a95-b6ed-8deddaf928bf",
   "metadata": {},
   "outputs": [],
   "source": [
    "test15(a = [1,2,3,]"
   ]
  }
 ],
 "metadata": {
  "kernelspec": {
   "display_name": "Python 3 (ipykernel)",
   "language": "python",
   "name": "python3"
  },
  "language_info": {
   "codemirror_mode": {
    "name": "ipython",
    "version": 3
   },
   "file_extension": ".py",
   "mimetype": "text/x-python",
   "name": "python",
   "nbconvert_exporter": "python",
   "pygments_lexer": "ipython3",
   "version": "3.10.8"
  }
 },
 "nbformat": 4,
 "nbformat_minor": 5
}
