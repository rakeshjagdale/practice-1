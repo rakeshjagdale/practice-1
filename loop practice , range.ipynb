{
 "cells": [
  {
   "cell_type": "code",
   "execution_count": 4,
   "id": "ba1f15b6-a677-430b-bea8-d3f1a8be5711",
   "metadata": {},
   "outputs": [],
   "source": [
    "l = [1,2,3,4,5]"
   ]
  },
  {
   "cell_type": "code",
   "execution_count": 8,
   "id": "767556de-295a-4fc2-8cfe-90a90f7ada25",
   "metadata": {},
   "outputs": [
    {
     "name": "stdout",
     "output_type": "stream",
     "text": [
      "1\n",
      "2\n",
      "3\n",
      "4\n",
      "5\n"
     ]
    }
   ],
   "source": [
    "for i in l :\n",
    "     print(i)"
   ]
  },
  {
   "cell_type": "code",
   "execution_count": 10,
   "id": "3e686347-61f7-4226-9563-e2ce402bdd84",
   "metadata": {},
   "outputs": [
    {
     "name": "stdout",
     "output_type": "stream",
     "text": [
      "1 <class 'int'>\n",
      "2 <class 'int'>\n",
      "3 <class 'int'>\n",
      "4 <class 'int'>\n",
      "5 <class 'int'>\n"
     ]
    }
   ],
   "source": [
    "for  i in l :\n",
    "    print (i , type(i))\n",
    "    "
   ]
  },
  {
   "cell_type": "code",
   "execution_count": 11,
   "id": "05638aa7-8670-4eab-b249-96d1d26af9a5",
   "metadata": {},
   "outputs": [],
   "source": [
    " l1 = ['rakesh', 'krish' , ' hummer' , 'audi']"
   ]
  },
  {
   "cell_type": "code",
   "execution_count": 12,
   "id": "ebe29d69-68d9-400c-bb50-724394889d54",
   "metadata": {},
   "outputs": [
    {
     "data": {
      "text/plain": [
       "['rakesh', 'krish', ' hummer', 'audi']"
      ]
     },
     "execution_count": 12,
     "metadata": {},
     "output_type": "execute_result"
    }
   ],
   "source": [
    "l1"
   ]
  },
  {
   "cell_type": "code",
   "execution_count": 13,
   "id": "b475d4c6-2278-430d-b986-8f02fc15404e",
   "metadata": {},
   "outputs": [
    {
     "name": "stdout",
     "output_type": "stream",
     "text": [
      "rakesh\n",
      "krish\n",
      " hummer\n",
      "audi\n"
     ]
    }
   ],
   "source": [
    "for m in l1 :\n",
    "    print (m)\n",
    "    "
   ]
  },
  {
   "cell_type": "code",
   "execution_count": 17,
   "id": "77cd0f92-1ec0-4ae5-ac39-f32c46f26f2a",
   "metadata": {},
   "outputs": [
    {
     "name": "stdout",
     "output_type": "stream",
     "text": [
      "rakesh\n",
      "krish\n",
      " hummer\n",
      "audi\n",
      " if for loop compleate itself than elsr will exicute\n"
     ]
    }
   ],
   "source": [
    "for  j in l1 :\n",
    "    print (j)\n",
    "else :\n",
    "    print (' if for loop compleate itself than elsr will exicute') "
   ]
  },
  {
   "cell_type": "code",
   "execution_count": 27,
   "id": "b5616cf0-db16-49be-8bab-7f182e5b2668",
   "metadata": {},
   "outputs": [
    {
     "name": "stdout",
     "output_type": "stream",
     "text": [
      "rakesh\n"
     ]
    }
   ],
   "source": [
    "for i in l1:\n",
    "    if i =='krish' :\n",
    "        break\n",
    "    print(i)\n",
    "    "
   ]
  },
  {
   "cell_type": "code",
   "execution_count": 28,
   "id": "c7088b7f-6860-407b-b7b1-e56dbc99b477",
   "metadata": {},
   "outputs": [
    {
     "data": {
      "text/plain": [
       "['rakesh', 'krish', ' hummer', 'audi']"
      ]
     },
     "execution_count": 28,
     "metadata": {},
     "output_type": "execute_result"
    }
   ],
   "source": [
    "l1"
   ]
  },
  {
   "cell_type": "code",
   "execution_count": 34,
   "id": "4fd91ac2-427e-4ccb-a198-0cab6c8fc9bd",
   "metadata": {},
   "outputs": [
    {
     "name": "stdout",
     "output_type": "stream",
     "text": [
      "rakesh\n"
     ]
    }
   ],
   "source": [
    "for i in l1:\n",
    "    if i == 'krish':\n",
    "        break     \n",
    "    print(i)\n",
    "else :           \n",
    "    print('hwllow') "
   ]
  },
  {
   "cell_type": "code",
   "execution_count": 36,
   "id": "20f0a86c-1dc2-4736-973d-fafafb2a03b8",
   "metadata": {},
   "outputs": [
    {
     "data": {
      "text/plain": [
       "['rakesh', 'krish', ' hummer', 'audi']"
      ]
     },
     "execution_count": 36,
     "metadata": {},
     "output_type": "execute_result"
    }
   ],
   "source": []
  },
  {
   "cell_type": "code",
   "execution_count": null,
   "id": "4fa58ace-68dc-49a3-abc2-d723d8eb6b1a",
   "metadata": {},
   "outputs": [],
   "source": [
    "else not work here beacouse for loop not compleate"
   ]
  },
  {
   "cell_type": "code",
   "execution_count": 43,
   "id": "9a95ddc6-cdf0-4bdb-adc2-35a07b1c1de0",
   "metadata": {},
   "outputs": [
    {
     "name": "stdout",
     "output_type": "stream",
     "text": [
      "rakesh\n",
      " hummer\n",
      "audi\n"
     ]
    }
   ],
   "source": [
    "for i in l1:\n",
    "    if i == 'krish':\n",
    "           continue\n",
    "    print(i)"
   ]
  },
  {
   "cell_type": "code",
   "execution_count": 45,
   "id": "1cb3ed3c-f555-43b1-8c7f-e01e067c5b96",
   "metadata": {},
   "outputs": [
    {
     "name": "stdout",
     "output_type": "stream",
     "text": [
      "rakesh\n",
      " hummer\n",
      "audi\n",
      " me hue don\n"
     ]
    }
   ],
   "source": [
    "for i in l1:\n",
    "    if i == 'krish':\n",
    "         continue\n",
    "    print(i)     \n",
    "else :\n",
    "        print(' me hue don')"
   ]
  },
  {
   "cell_type": "code",
   "execution_count": 46,
   "id": "b47fb7ee-1851-4d4b-a4f1-ab3d339f882d",
   "metadata": {},
   "outputs": [
    {
     "data": {
      "text/plain": [
       "range(0, 5)"
      ]
     },
     "execution_count": 46,
     "metadata": {},
     "output_type": "execute_result"
    }
   ],
   "source": [
    "range(5)"
   ]
  },
  {
   "cell_type": "code",
   "execution_count": 48,
   "id": "b4ee7fea-ed1d-4ba3-ac0d-f7687e3a12bb",
   "metadata": {},
   "outputs": [
    {
     "data": {
      "text/plain": [
       "[0, 1, 2, 3, 4]"
      ]
     },
     "execution_count": 48,
     "metadata": {},
     "output_type": "execute_result"
    }
   ],
   "source": [
    "list(range(5))"
   ]
  },
  {
   "cell_type": "code",
   "execution_count": 56,
   "id": "376cf2b0-d9b6-457e-9856-0346d0c71bdf",
   "metadata": {},
   "outputs": [
    {
     "data": {
      "text/plain": [
       "[0, 1, 2, 3, 4, 5, 6, 7, 8, 9]"
      ]
     },
     "execution_count": 56,
     "metadata": {},
     "output_type": "execute_result"
    }
   ],
   "source": [
    "list(range(0,10,1f))"
   ]
  },
  {
   "cell_type": "code",
   "execution_count": null,
   "id": "a1be55b2-3021-4815-bf8f-e94baaa95a23",
   "metadata": {},
   "outputs": [],
   "source": []
  },
  {
   "cell_type": "code",
   "execution_count": null,
   "id": "4cee0e82-41e0-4c87-a447-a09feaebc84e",
   "metadata": {},
   "outputs": [],
   "source": []
  }
 ],
 "metadata": {
  "kernelspec": {
   "display_name": "Python 3 (ipykernel)",
   "language": "python",
   "name": "python3"
  },
  "language_info": {
   "codemirror_mode": {
    "name": "ipython",
    "version": 3
   },
   "file_extension": ".py",
   "mimetype": "text/x-python",
   "name": "python",
   "nbconvert_exporter": "python",
   "pygments_lexer": "ipython3",
   "version": "3.10.8"
  }
 },
 "nbformat": 4,
 "nbformat_minor": 5
}
