{
 "cells": [
  {
   "cell_type": "code",
   "execution_count": 29,
   "id": "09f3692d-7973-49a9-a8fa-a2ecccd46663",
   "metadata": {},
   "outputs": [
    {
     "name": "stdout",
     "output_type": "stream",
     "text": [
      "you will be a part of A1 batach\n"
     ]
    }
   ],
   "source": [
    " marks = 79.999999\n",
    "if marks >= 80 :\n",
    "    print('you will be the part of A0 batach')\n",
    "elif marks >=60 and marks< 80 :\n",
    "    print('you will be a part of A1 batach')\n",
    "elif marks>=40 and  marks < 60 :\n",
    "      print ('you will be a part of A2 batach')\n",
    "else :\n",
    "    print('you will be a part of A3 batach')\n",
    "    "
   ]
  },
  {
   "cell_type": "code",
   "execution_count": null,
   "id": "56962bcb-3a5b-4b7d-a478-60ded7e05ff5",
   "metadata": {},
   "outputs": [],
   "source": [
    "marks = int(input('enter you marks'))\n",
    "if marks >= 80 :\n",
    "    print('you will be the part of A0 batach')\n",
    "elif marks >=60 and marks< 80 :\n",
    "    print('you will be a part of A1 batach')\n",
    "elif marks>=40 and  marks < 60 :\n",
    "      print ('you will be a part of A2 batach')\n",
    "else :\n",
    "    print('you will be a part of A3 batach')\n",
    "    "
   ]
  },
  {
   "cell_type": "code",
   "execution_count": 23,
   "id": "3e91cf20-e200-4e99-b8dd-9102de67b064",
   "metadata": {},
   "outputs": [
    {
     "name": "stdin",
     "output_type": "stream",
     "text": [
      "enter your marks 78\n"
     ]
    }
   ],
   "source": [
    "marks = float(input('enter your marks'))"
   ]
  },
  {
   "cell_type": "code",
   "execution_count": 21,
   "id": "27088ed5-e15e-4360-9bbe-5c6bc4f4bc3d",
   "metadata": {},
   "outputs": [
    {
     "data": {
      "text/plain": [
       "False"
      ]
     },
     "execution_count": 21,
     "metadata": {},
     "output_type": "execute_result"
    }
   ],
   "source": [
    "7343>=3353366363\n"
   ]
  },
  {
   "cell_type": "code",
   "execution_count": 22,
   "id": "0527729f-7dd3-4ee5-bed3-3ebcbeca900e",
   "metadata": {},
   "outputs": [
    {
     "name": "stdin",
     "output_type": "stream",
     "text": [
      "enter price 900\n"
     ]
    },
    {
     "name": "stdout",
     "output_type": "stream",
     "text": [
      " i will purches\n",
      "this is too much for sunglass\n"
     ]
    }
   ],
   "source": [
    "price = int(input('enter price'))\n",
    "if price  > 1000:\n",
    "    print (' will not purches')\n",
    "else :\n",
    "\n",
    "    print( ' i will purches')\n",
    "    if price <5000:\n",
    "        print('this is too much for sunglass')\n",
    "    elif price < 2000 :\n",
    "        print ('its ok')\n",
    "    elif price < 1000:\n",
    "         print ('not ok')"
   ]
  },
  {
   "cell_type": "code",
   "execution_count": 25,
   "id": "0859891f-d965-4d82-a96a-e4f56123c37f",
   "metadata": {},
   "outputs": [],
   "source": [
    "l= [2,42424,24,242,42,424]"
   ]
  },
  {
   "cell_type": "code",
   "execution_count": 26,
   "id": "352d6b1e-22ff-4995-aa6e-babfbe98dddf",
   "metadata": {},
   "outputs": [
    {
     "name": "stdout",
     "output_type": "stream",
     "text": [
      "2\n",
      "42424\n",
      "24\n",
      "242\n",
      "42\n",
      "424\n"
     ]
    }
   ],
   "source": [
    "for i in l :\n",
    "    print(i)"
   ]
  },
  {
   "cell_type": "code",
   "execution_count": 34,
   "id": "b1c5e9e0-a79b-40d8-97c5-7e12eadbcb1c",
   "metadata": {},
   "outputs": [
    {
     "name": "stdout",
     "output_type": "stream",
     "text": [
      "3\n",
      "42425\n",
      "25\n",
      "243\n",
      "43\n",
      "425\n"
     ]
    }
   ],
   "source": [
    "for rakesh in l :\n",
    "    print(rakesh)"
   ]
  },
  {
   "cell_type": "code",
   "execution_count": null,
   "id": "86b30356-4ce0-4907-aaf2-6f5844e9a33c",
   "metadata": {},
   "outputs": [],
   "source": []
  },
  {
   "cell_type": "code",
   "execution_count": 36,
   "id": "7b216d26-d4ab-42e7-94ab-1766326729f7",
   "metadata": {},
   "outputs": [
    {
     "name": "stdout",
     "output_type": "stream",
     "text": [
      "3\n",
      "42425\n",
      "25\n",
      "243\n",
      "43\n",
      "425\n"
     ]
    }
   ],
   "source": [
    "for rakesh in l :\n",
    "    print(rakesh+1)"
   ]
  },
  {
   "cell_type": "code",
   "execution_count": null,
   "id": "69d18f6e-0f1d-40e9-ae95-a7f46e31b677",
   "metadata": {},
   "outputs": [],
   "source": []
  },
  {
   "cell_type": "code",
   "execution_count": 37,
   "id": "5e8005cd-65d5-4cd9-bda0-b9e490404000",
   "metadata": {},
   "outputs": [
    {
     "name": "stdout",
     "output_type": "stream",
     "text": [
      "2\n",
      "42424\n",
      "24\n",
      "242\n",
      "42\n",
      "424\n"
     ]
    }
   ],
   "source": [
    "for rakesh in l :\n",
    "    print(rakesh)"
   ]
  },
  {
   "cell_type": "code",
   "execution_count": 40,
   "id": "12cba6ac-d953-4e27-ada8-c4a896a97a8f",
   "metadata": {},
   "outputs": [
    {
     "name": "stdout",
     "output_type": "stream",
     "text": [
      "3\n",
      "42425\n",
      "25\n",
      "243\n",
      "43\n",
      "425\n"
     ]
    },
    {
     "data": {
      "text/plain": [
       "[3, 42425, 25, 243, 43, 425]"
      ]
     },
     "execution_count": 40,
     "metadata": {},
     "output_type": "execute_result"
    }
   ],
   "source": [
    "l1 =[]\n",
    "for i in l :\n",
    "    print(i+1)\n",
    "    l1.append(i+1)\n",
    "l1    "
   ]
  },
  {
   "cell_type": "code",
   "execution_count": 41,
   "id": "66877326-8b92-414f-9adf-ca745de49c7e",
   "metadata": {},
   "outputs": [
    {
     "data": {
      "text/plain": [
       "[2, 42424, 24, 242, 42, 424]"
      ]
     },
     "execution_count": 41,
     "metadata": {},
     "output_type": "execute_result"
    }
   ],
   "source": [
    "l"
   ]
  },
  {
   "cell_type": "code",
   "execution_count": 42,
   "id": "d0e011a1-4211-4843-aa15-89f2e0cf4158",
   "metadata": {},
   "outputs": [
    {
     "data": {
      "text/plain": [
       "[3, 42425, 25, 243, 43, 425]"
      ]
     },
     "execution_count": 42,
     "metadata": {},
     "output_type": "execute_result"
    }
   ],
   "source": [
    "l1"
   ]
  },
  {
   "cell_type": "code",
   "execution_count": 43,
   "id": "a331a9cc-0ef9-4124-b2ab-bbd1889db33f",
   "metadata": {},
   "outputs": [],
   "source": [
    "k = ['rakesh' , 'pwskills' , 'gmamath']"
   ]
  },
  {
   "cell_type": "code",
   "execution_count": 44,
   "id": "1d78e5b3-9437-44c1-bbbd-92a97efe3329",
   "metadata": {},
   "outputs": [
    {
     "data": {
      "text/plain": [
       "['rakesh', 'pwskills', 'gmamath']"
      ]
     },
     "execution_count": 44,
     "metadata": {},
     "output_type": "execute_result"
    }
   ],
   "source": [
    "k\n"
   ]
  },
  {
   "cell_type": "code",
   "execution_count": 47,
   "id": "c787a9fc-8955-477d-957e-a2aa721633ba",
   "metadata": {},
   "outputs": [
    {
     "name": "stdout",
     "output_type": "stream",
     "text": [
      "rakesh\n",
      "pwskills\n",
      "gmamath\n"
     ]
    },
    {
     "data": {
      "text/plain": [
       "['RAKESH', 'PWSKILLS', 'GMAMATH']"
      ]
     },
     "execution_count": 47,
     "metadata": {},
     "output_type": "execute_result"
    }
   ],
   "source": [
    "k2 =[]\n",
    "for king in k :\n",
    "    print(king)\n",
    "    k2.append(king.upper())\n",
    "k2    "
   ]
  },
  {
   "cell_type": "code",
   "execution_count": 48,
   "id": "01433c3f-25dd-4d89-bf2a-c3fe6303d4b3",
   "metadata": {},
   "outputs": [
    {
     "data": {
      "text/plain": [
       "['RAKESH', 'PWSKILLS', 'GMAMATH']"
      ]
     },
     "execution_count": 48,
     "metadata": {},
     "output_type": "execute_result"
    }
   ],
   "source": [
    "k2\n"
   ]
  },
  {
   "cell_type": "code",
   "execution_count": 88,
   "id": "96a4b321-037f-4f40-bf17-44913c131d54",
   "metadata": {},
   "outputs": [],
   "source": [
    "l = [45,45,454,5,'dg','egegeg' , 53,55,3 , 'sfs']"
   ]
  },
  {
   "cell_type": "code",
   "execution_count": 89,
   "id": "ce962ce4-4963-428a-a8e9-86edfd17273d",
   "metadata": {},
   "outputs": [
    {
     "data": {
      "text/plain": [
       "[45, 45, 454, 5, 'dg', 'egegeg', 53, 55, 3, 'sfs']"
      ]
     },
     "execution_count": 89,
     "metadata": {},
     "output_type": "execute_result"
    }
   ],
   "source": [
    "l"
   ]
  },
  {
   "cell_type": "code",
   "execution_count": 124,
   "id": "d4a67308-59f0-41d9-8b79-6dc6165a8142",
   "metadata": {},
   "outputs": [
    {
     "ename": "IndentationError",
     "evalue": "unindent does not match any outer indentation level (<tokenize>, line 6)",
     "output_type": "error",
     "traceback": [
      "\u001b[0;36m  File \u001b[0;32m<tokenize>:6\u001b[0;36m\u001b[0m\n\u001b[0;31m    else :\u001b[0m\n\u001b[0m    ^\u001b[0m\n\u001b[0;31mIndentationError\u001b[0m\u001b[0;31m:\u001b[0m unindent does not match any outer indentation level\n"
     ]
    }
   ],
   "source": [
    "l1_num = []\n",
    "l2_str = []\n",
    "for i in l :\n",
    "    if type(i) == int or type(i) == str :\n",
    "              l1_num.append(i)\n",
    "            else :\n",
    "                l2_str.append(i)\n",
    "    "
   ]
  },
  {
   "cell_type": "code",
   "execution_count": 118,
   "id": "e5d7eeac-0ee6-412f-9b23-4b93e11c2da6",
   "metadata": {},
   "outputs": [
    {
     "data": {
      "text/plain": [
       "[3, 42425, 25, 243, 43, 425]"
      ]
     },
     "execution_count": 118,
     "metadata": {},
     "output_type": "execute_result"
    }
   ],
   "source": [
    "l1"
   ]
  },
  {
   "cell_type": "code",
   "execution_count": 122,
   "id": "ea416752-069e-464f-ad3c-eece99982df4",
   "metadata": {},
   "outputs": [
    {
     "ename": "NameError",
     "evalue": "name 'l2' is not defined",
     "output_type": "error",
     "traceback": [
      "\u001b[0;31m---------------------------------------------------------------------------\u001b[0m",
      "\u001b[0;31mNameError\u001b[0m                                 Traceback (most recent call last)",
      "Cell \u001b[0;32mIn[122], line 1\u001b[0m\n\u001b[0;32m----> 1\u001b[0m \u001b[43ml2\u001b[49m\n",
      "\u001b[0;31mNameError\u001b[0m: name 'l2' is not defined"
     ]
    }
   ],
   "source": [
    "l2"
   ]
  },
  {
   "cell_type": "code",
   "execution_count": null,
   "id": "a5935a3c-ac44-45b0-9518-d97c84e3b98c",
   "metadata": {},
   "outputs": [],
   "source": []
  }
 ],
 "metadata": {
  "kernelspec": {
   "display_name": "Python 3 (ipykernel)",
   "language": "python",
   "name": "python3"
  },
  "language_info": {
   "codemirror_mode": {
    "name": "ipython",
    "version": 3
   },
   "file_extension": ".py",
   "mimetype": "text/x-python",
   "name": "python",
   "nbconvert_exporter": "python",
   "pygments_lexer": "ipython3",
   "version": "3.10.8"
  }
 },
 "nbformat": 4,
 "nbformat_minor": 5
}
