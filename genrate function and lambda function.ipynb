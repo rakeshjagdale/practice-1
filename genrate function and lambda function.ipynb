{
 "cells": [
  {
   "cell_type": "code",
   "execution_count": 1,
   "id": "db825711-65b6-44ed-a9fe-7ceec8cbadbb",
   "metadata": {},
   "outputs": [],
   "source": [
    "def test_fib(n):\n",
    "    a,b = 0,1\n",
    "    for i in range(n):\n",
    "        yield a\n",
    "        a,b = b , a+b"
   ]
  },
  {
   "cell_type": "code",
   "execution_count": 2,
   "id": "2017f4c0-ec71-4450-a261-041aa27ea62f",
   "metadata": {},
   "outputs": [
    {
     "data": {
      "text/plain": [
       "<generator object test_fib at 0x7f173a6ad4d0>"
      ]
     },
     "execution_count": 2,
     "metadata": {},
     "output_type": "execute_result"
    }
   ],
   "source": [
    "test_fib(10)"
   ]
  },
  {
   "cell_type": "code",
   "execution_count": 7,
   "id": "6ceb94b8-d538-4b44-96bd-83994fa3289a",
   "metadata": {},
   "outputs": [
    {
     "name": "stdout",
     "output_type": "stream",
     "text": [
      "0\n",
      "1\n",
      "1\n",
      "2\n",
      "3\n",
      "5\n",
      "8\n",
      "13\n",
      "21\n",
      "34\n"
     ]
    }
   ],
   "source": [
    "for i in test_fib(10):\n",
    "    print(i)"
   ]
  },
  {
   "cell_type": "code",
   "execution_count": 9,
   "id": "da217fc8-baf6-402b-a868-4eb27f30b6c1",
   "metadata": {},
   "outputs": [],
   "source": [
    "s = \"rakesh\""
   ]
  },
  {
   "cell_type": "raw",
   "id": "0c055b31-f434-4ecc-9402-54b0e67598ca",
   "metadata": {},
   "source": [
    " for"
   ]
  },
  {
   "cell_type": "code",
   "execution_count": 10,
   "id": "3c0df624-efad-4e76-99df-59ae806aabba",
   "metadata": {},
   "outputs": [
    {
     "data": {
      "text/plain": [
       "'rakesh'"
      ]
     },
     "execution_count": 10,
     "metadata": {},
     "output_type": "execute_result"
    }
   ],
   "source": [
    "s"
   ]
  },
  {
   "cell_type": "code",
   "execution_count": 11,
   "id": "fe911b7b-37ff-429a-9e7e-c031f7477149",
   "metadata": {},
   "outputs": [],
   "source": [
    "s1 = iter(s)"
   ]
  },
  {
   "cell_type": "code",
   "execution_count": 12,
   "id": "649ff3fe-217c-4495-beed-3b83ee27bf7b",
   "metadata": {},
   "outputs": [
    {
     "data": {
      "text/plain": [
       "'r'"
      ]
     },
     "execution_count": 12,
     "metadata": {},
     "output_type": "execute_result"
    }
   ],
   "source": [
    "next(s1)"
   ]
  },
  {
   "cell_type": "code",
   "execution_count": 14,
   "id": "429fb44b-0a9e-4f1a-9add-6ee2da0ffc28",
   "metadata": {},
   "outputs": [
    {
     "data": {
      "text/plain": [
       "'a'"
      ]
     },
     "execution_count": 14,
     "metadata": {},
     "output_type": "execute_result"
    }
   ],
   "source": [
    "next(s1)"
   ]
  },
  {
   "cell_type": "code",
   "execution_count": 15,
   "id": "6acd287d-204a-419c-9f2a-aafdd03a6a1b",
   "metadata": {},
   "outputs": [
    {
     "data": {
      "text/plain": [
       "'k'"
      ]
     },
     "execution_count": 15,
     "metadata": {},
     "output_type": "execute_result"
    }
   ],
   "source": [
    "next(s1)"
   ]
  },
  {
   "cell_type": "code",
   "execution_count": 17,
   "id": "f93756c6-e2cf-44db-a818-f577c76cbc88",
   "metadata": {},
   "outputs": [
    {
     "name": "stdout",
     "output_type": "stream",
     "text": [
      "r\n",
      "a\n",
      "k\n",
      "e\n",
      "s\n",
      "h\n"
     ]
    }
   ],
   "source": [
    "for i in s :\n",
    "\n",
    "    print(i)"
   ]
  },
  {
   "cell_type": "code",
   "execution_count": 18,
   "id": "109b7df7-c260-474c-87d2-aa5638942ca8",
   "metadata": {},
   "outputs": [],
   "source": [
    "def count_test(n):\n",
    "    count = 1\n",
    "    while count < n :\n",
    "        yield count\n",
    "        count = count + 1"
   ]
  },
  {
   "cell_type": "code",
   "execution_count": 23,
   "id": "0852c68f-cff3-491b-a51f-9c8968002b31",
   "metadata": {},
   "outputs": [],
   "source": [
    "c = count_test(10)"
   ]
  },
  {
   "cell_type": "code",
   "execution_count": 24,
   "id": "8776a1c5-d247-49de-b27a-f6a3fd5cb7bb",
   "metadata": {},
   "outputs": [
    {
     "name": "stdout",
     "output_type": "stream",
     "text": [
      "1\n",
      "2\n",
      "3\n",
      "4\n",
      "5\n",
      "6\n",
      "7\n",
      "8\n",
      "9\n"
     ]
    }
   ],
   "source": [
    "for i in c :\n",
    "    print(i)"
   ]
  },
  {
   "cell_type": "code",
   "execution_count": 25,
   "id": "c7f58def-7080-4e08-bdee-76bd970d0975",
   "metadata": {},
   "outputs": [],
   "source": [
    "# lambda function"
   ]
  },
  {
   "cell_type": "code",
   "execution_count": 26,
   "id": "4fe447f7-d500-43ec-aa0b-72744b07bc89",
   "metadata": {},
   "outputs": [],
   "source": [
    "n = 1\n",
    "p = 2"
   ]
  },
  {
   "cell_type": "code",
   "execution_count": 27,
   "id": "ff742e1b-72d5-49ad-b91d-89b9d56e868b",
   "metadata": {},
   "outputs": [],
   "source": [
    "def test(n,p):\n",
    "    return n**p\n",
    "    "
   ]
  },
  {
   "cell_type": "code",
   "execution_count": 28,
   "id": "38e48664-e15c-4897-bfc9-4041ebd40b86",
   "metadata": {},
   "outputs": [
    {
     "data": {
      "text/plain": [
       "8"
      ]
     },
     "execution_count": 28,
     "metadata": {},
     "output_type": "execute_result"
    }
   ],
   "source": [
    "test(2,3)"
   ]
  },
  {
   "cell_type": "code",
   "execution_count": 29,
   "id": "ab255ce6-c369-4578-816d-dabeb67ea3fe",
   "metadata": {},
   "outputs": [],
   "source": [
    " a = lambda n, p :n**p"
   ]
  },
  {
   "cell_type": "code",
   "execution_count": 30,
   "id": "05bbdccc-eded-48c7-a925-8c18f562a695",
   "metadata": {},
   "outputs": [
    {
     "data": {
      "text/plain": [
       "9"
      ]
     },
     "execution_count": 30,
     "metadata": {},
     "output_type": "execute_result"
    }
   ],
   "source": [
    "a(3,2)"
   ]
  },
  {
   "cell_type": "code",
   "execution_count": 31,
   "id": "769ade60-f812-438d-a444-b4f49dc6cb53",
   "metadata": {},
   "outputs": [],
   "source": [
    "b = lambda n, p :n+p"
   ]
  },
  {
   "cell_type": "code",
   "execution_count": 32,
   "id": "b20d4f28-822e-423d-b361-4b9e8890221c",
   "metadata": {},
   "outputs": [
    {
     "data": {
      "text/plain": [
       "539"
      ]
     },
     "execution_count": 32,
     "metadata": {},
     "output_type": "execute_result"
    }
   ],
   "source": [
    "b(3,536)"
   ]
  },
  {
   "cell_type": "code",
   "execution_count": 33,
   "id": "46121bfd-0442-4ef1-8a31-625487fc2805",
   "metadata": {},
   "outputs": [],
   "source": [
    "c = lambda k, h : k-h"
   ]
  },
  {
   "cell_type": "code",
   "execution_count": 35,
   "id": "196ab449-1450-4eb7-8be5-d6b57b5762d8",
   "metadata": {},
   "outputs": [
    {
     "data": {
      "text/plain": [
       "12273"
      ]
     },
     "execution_count": 35,
     "metadata": {},
     "output_type": "execute_result"
    }
   ],
   "source": [
    "c(65738,53465)"
   ]
  },
  {
   "cell_type": "code",
   "execution_count": 36,
   "id": "ddda41a5-c482-4fe2-99d7-942138244092",
   "metadata": {},
   "outputs": [],
   "source": [
    "c_to_f = lambda c : (9/5)*c + 32"
   ]
  },
  {
   "cell_type": "code",
   "execution_count": 37,
   "id": "4df3f9a4-0f56-402d-bbb2-5240c9296514",
   "metadata": {},
   "outputs": [
    {
     "data": {
      "text/plain": [
       "113.0"
      ]
     },
     "execution_count": 37,
     "metadata": {},
     "output_type": "execute_result"
    }
   ],
   "source": [
    "c_to_f(45)"
   ]
  },
  {
   "cell_type": "code",
   "execution_count": 38,
   "id": "11bb0e77-67e1-4151-9f73-cd2d33a93fa1",
   "metadata": {},
   "outputs": [],
   "source": [
    "finding_max = lambda x,y : x if x>y else y"
   ]
  },
  {
   "cell_type": "code",
   "execution_count": 39,
   "id": "02c03329-0ad1-4cf5-a26e-9ca6dafa3a31",
   "metadata": {},
   "outputs": [
    {
     "data": {
      "text/plain": [
       "352455"
      ]
     },
     "execution_count": 39,
     "metadata": {},
     "output_type": "execute_result"
    }
   ],
   "source": [
    "finding_max(352455,52525)"
   ]
  },
  {
   "cell_type": "code",
   "execution_count": 40,
   "id": "f8ac0e41-ee63-42a1-9c66-572522ca0414",
   "metadata": {},
   "outputs": [],
   "source": [
    "s = 'rakesh_jagdale'"
   ]
  },
  {
   "cell_type": "code",
   "execution_count": 41,
   "id": "4130f392-025e-4471-baf6-31fdb7972024",
   "metadata": {},
   "outputs": [],
   "source": [
    "find_len = lambda s : len(s)"
   ]
  },
  {
   "cell_type": "code",
   "execution_count": 42,
   "id": "12ad3327-ce5c-4aac-b853-c58e3055b377",
   "metadata": {},
   "outputs": [
    {
     "data": {
      "text/plain": [
       "14"
      ]
     },
     "execution_count": 42,
     "metadata": {},
     "output_type": "execute_result"
    }
   ],
   "source": [
    "find_len(s)"
   ]
  },
  {
   "cell_type": "code",
   "execution_count": null,
   "id": "296ad9f2-453d-4aea-a1bc-e8696c1de6fd",
   "metadata": {},
   "outputs": [],
   "source": []
  }
 ],
 "metadata": {
  "kernelspec": {
   "display_name": "Python 3 (ipykernel)",
   "language": "python",
   "name": "python3"
  },
  "language_info": {
   "codemirror_mode": {
    "name": "ipython",
    "version": 3
   },
   "file_extension": ".py",
   "mimetype": "text/x-python",
   "name": "python",
   "nbconvert_exporter": "python",
   "pygments_lexer": "ipython3",
   "version": "3.10.8"
  }
 },
 "nbformat": 4,
 "nbformat_minor": 5
}
