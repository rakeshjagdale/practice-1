{
 "cells": [
  {
   "cell_type": "code",
   "execution_count": 1,
   "id": "23f6bd00-d58b-42c1-8dce-06e54957a0e9",
   "metadata": {},
   "outputs": [],
   "source": [
    "s='have'"
   ]
  },
  {
   "cell_type": "code",
   "execution_count": 2,
   "id": "3b5b9d7f-a83f-4ae1-a27b-cbaa1b4ae31c",
   "metadata": {},
   "outputs": [
    {
     "data": {
      "text/plain": [
       "'hkve'"
      ]
     },
     "execution_count": 2,
     "metadata": {},
     "output_type": "execute_result"
    }
   ],
   "source": [
    "s.replace('a', 'k')"
   ]
  },
  {
   "cell_type": "code",
   "execution_count": 7,
   "id": "1d790bec-6367-498f-a6e7-c461c340cdf1",
   "metadata": {},
   "outputs": [],
   "source": [
    "t= (2,4,5,6,7,True, 'KING', 45+7j,[4,5,6,7])"
   ]
  },
  {
   "cell_type": "code",
   "execution_count": 8,
   "id": "907108aa-e663-4fb5-a311-8f506f1de5ef",
   "metadata": {},
   "outputs": [
    {
     "data": {
      "text/plain": [
       "tuple"
      ]
     },
     "execution_count": 8,
     "metadata": {},
     "output_type": "execute_result"
    }
   ],
   "source": [
    "type(t)"
   ]
  },
  {
   "cell_type": "code",
   "execution_count": 9,
   "id": "645518b3-8131-4f66-a418-d66dee3de8a9",
   "metadata": {},
   "outputs": [
    {
     "data": {
      "text/plain": [
       "9"
      ]
     },
     "execution_count": 9,
     "metadata": {},
     "output_type": "execute_result"
    }
   ],
   "source": [
    "len(t)"
   ]
  },
  {
   "cell_type": "code",
   "execution_count": 10,
   "id": "80ee56c2-1a95-45c9-89bf-2286702a5f9c",
   "metadata": {},
   "outputs": [
    {
     "data": {
      "text/plain": [
       "5"
      ]
     },
     "execution_count": 10,
     "metadata": {},
     "output_type": "execute_result"
    }
   ],
   "source": [
    "t[2]"
   ]
  },
  {
   "cell_type": "code",
   "execution_count": 11,
   "id": "874f5763-d431-429f-84f1-b826c34657dc",
   "metadata": {},
   "outputs": [
    {
     "data": {
      "text/plain": [
       "'KING'"
      ]
     },
     "execution_count": 11,
     "metadata": {},
     "output_type": "execute_result"
    }
   ],
   "source": [
    "t[-3]"
   ]
  },
  {
   "cell_type": "code",
   "execution_count": 12,
   "id": "46dcb7e0-86db-4f37-b3a9-4e9fd2cdf544",
   "metadata": {},
   "outputs": [
    {
     "data": {
      "text/plain": [
       "([4, 5, 6, 7], 6)"
      ]
     },
     "execution_count": 12,
     "metadata": {},
     "output_type": "execute_result"
    }
   ],
   "source": [
    "t[::-5]"
   ]
  },
  {
   "cell_type": "code",
   "execution_count": 14,
   "id": "28c53e2b-764e-4c18-80b4-8b5e89605753",
   "metadata": {},
   "outputs": [
    {
     "data": {
      "text/plain": [
       "(2, 4, 5, 6, 7, True, 'KING', (45+7j), [4, 5, 6, 7])"
      ]
     },
     "execution_count": 14,
     "metadata": {},
     "output_type": "execute_result"
    }
   ],
   "source": [
    "t"
   ]
  },
  {
   "cell_type": "code",
   "execution_count": 16,
   "id": "bebc1f9c-0e88-4a9f-925d-65914576fc94",
   "metadata": {},
   "outputs": [
    {
     "ename": "TypeError",
     "evalue": "'tuple' object does not support item assignment",
     "output_type": "error",
     "traceback": [
      "\u001b[0;31m---------------------------------------------------------------------------\u001b[0m",
      "\u001b[0;31mTypeError\u001b[0m                                 Traceback (most recent call last)",
      "Cell \u001b[0;32mIn[16], line 1\u001b[0m\n\u001b[0;32m----> 1\u001b[0m \u001b[43mt\u001b[49m\u001b[43m[\u001b[49m\u001b[38;5;241;43m1\u001b[39;49m\u001b[43m]\u001b[49m\u001b[38;5;241m=\u001b[39m\u001b[38;5;124m'\u001b[39m\u001b[38;5;124mirj\u001b[39m\u001b[38;5;124m'\u001b[39m\n",
      "\u001b[0;31mTypeError\u001b[0m: 'tuple' object does not support item assignment"
     ]
    }
   ],
   "source": [
    "t[1]='irj'"
   ]
  },
  {
   "cell_type": "code",
   "execution_count": 17,
   "id": "98e02b01-c8fa-4fc0-82cc-b35f8b5625b2",
   "metadata": {},
   "outputs": [
    {
     "ename": "AttributeError",
     "evalue": "'tuple' object has no attribute 'reverse'",
     "output_type": "error",
     "traceback": [
      "\u001b[0;31m---------------------------------------------------------------------------\u001b[0m",
      "\u001b[0;31mAttributeError\u001b[0m                            Traceback (most recent call last)",
      "Cell \u001b[0;32mIn[17], line 1\u001b[0m\n\u001b[0;32m----> 1\u001b[0m \u001b[43mt\u001b[49m\u001b[38;5;241;43m.\u001b[39;49m\u001b[43mreverse\u001b[49m()\n",
      "\u001b[0;31mAttributeError\u001b[0m: 'tuple' object has no attribute 'reverse'"
     ]
    }
   ],
   "source": [
    "t.reverse()"
   ]
  },
  {
   "cell_type": "code",
   "execution_count": 18,
   "id": "c977de3d-d0ec-4d12-89b7-d12540047ae8",
   "metadata": {},
   "outputs": [
    {
     "data": {
      "text/plain": [
       "([4, 5, 6, 7], (45+7j), 'KING', True, 7, 6, 5, 4, 2)"
      ]
     },
     "execution_count": 18,
     "metadata": {},
     "output_type": "execute_result"
    }
   ],
   "source": [
    "t[::-1]"
   ]
  },
  {
   "cell_type": "code",
   "execution_count": 19,
   "id": "c1afafb7-8e63-4c5b-a052-c0a3333abadd",
   "metadata": {},
   "outputs": [
    {
     "data": {
      "text/plain": [
       "1"
      ]
     },
     "execution_count": 19,
     "metadata": {},
     "output_type": "execute_result"
    }
   ],
   "source": [
    "t.count(7)"
   ]
  },
  {
   "cell_type": "code",
   "execution_count": 23,
   "id": "3e5fd7f1-7f71-4b15-af1e-3b49ac7b4a43",
   "metadata": {},
   "outputs": [
    {
     "data": {
      "text/plain": [
       "6"
      ]
     },
     "execution_count": 23,
     "metadata": {},
     "output_type": "execute_result"
    }
   ],
   "source": [
    "t.index('KING')"
   ]
  },
  {
   "cell_type": "code",
   "execution_count": 22,
   "id": "4ab1d9ec-ec3e-4f38-9bce-869fd7c7e74c",
   "metadata": {},
   "outputs": [
    {
     "data": {
      "text/plain": [
       "(2, 4, 5, 6, 7, True, 'KING', (45+7j), [4, 5, 6, 7])"
      ]
     },
     "execution_count": 22,
     "metadata": {},
     "output_type": "execute_result"
    }
   ],
   "source": [
    "t"
   ]
  },
  {
   "cell_type": "code",
   "execution_count": 6,
   "id": "983cb62e-a53d-4154-bb74-76648e5aea01",
   "metadata": {},
   "outputs": [],
   "source": [
    "d={3,4,5,'ghns',(5,7,7,'ege')}\n"
   ]
  },
  {
   "cell_type": "code",
   "execution_count": 19,
   "id": "d6328b6b-cf7c-41b9-bbe5-06e5761b3428",
   "metadata": {},
   "outputs": [
    {
     "data": {
      "text/plain": [
       "set"
      ]
     },
     "execution_count": 19,
     "metadata": {},
     "output_type": "execute_result"
    }
   ],
   "source": [
    "type(d)"
   ]
  },
  {
   "cell_type": "code",
   "execution_count": 20,
   "id": "e4c61853-2997-4451-9cc6-22e96ce3999e",
   "metadata": {},
   "outputs": [],
   "source": [
    "s4={3,45,6,7,8,9,5,5,6,6,7,77,7,7,8,8,9,6,5,5,'king','king',54}"
   ]
  },
  {
   "cell_type": "code",
   "execution_count": 21,
   "id": "dd276dae-f28b-44f6-b821-680b9850a2e4",
   "metadata": {},
   "outputs": [
    {
     "data": {
      "text/plain": [
       "{3, 45, 5, 54, 6, 7, 77, 8, 9, 'king'}"
      ]
     },
     "execution_count": 21,
     "metadata": {},
     "output_type": "execute_result"
    }
   ],
   "source": [
    "s4"
   ]
  },
  {
   "cell_type": "code",
   "execution_count": 22,
   "id": "e1e1cfdd-70c0-4f91-b5dc-526b4a6dc9e4",
   "metadata": {},
   "outputs": [],
   "source": [
    "l4=[4,5,46,56,456]"
   ]
  },
  {
   "cell_type": "code",
   "execution_count": 18,
   "id": "ca447959-bc0f-44e9-84d9-33afb53ef64c",
   "metadata": {},
   "outputs": [],
   "source": [
    "l4=set(l4)"
   ]
  },
  {
   "cell_type": "code",
   "execution_count": 24,
   "id": "ac058b9e-369b-451a-906a-5b5cc2273335",
   "metadata": {},
   "outputs": [],
   "source": [
    "f = {6,464,64,6464,3,3535,'king', 454544,63535,}"
   ]
  },
  {
   "cell_type": "code",
   "execution_count": 25,
   "id": "d5d7d956-b130-4010-9ee1-d9c1653d0651",
   "metadata": {},
   "outputs": [
    {
     "data": {
      "text/plain": [
       "{3, 3535, 454544, 464, 6, 63535, 64, 6464, 'king'}"
      ]
     },
     "execution_count": 25,
     "metadata": {},
     "output_type": "execute_result"
    }
   ],
   "source": [
    "f"
   ]
  },
  {
   "cell_type": "code",
   "execution_count": 27,
   "id": "bee3e588-2d19-41bd-b9bc-e4c42e152ba6",
   "metadata": {},
   "outputs": [
    {
     "ename": "TypeError",
     "evalue": "'set' object is not subscriptable",
     "output_type": "error",
     "traceback": [
      "\u001b[0;31m---------------------------------------------------------------------------\u001b[0m",
      "\u001b[0;31mTypeError\u001b[0m                                 Traceback (most recent call last)",
      "Cell \u001b[0;32mIn[27], line 1\u001b[0m\n\u001b[0;32m----> 1\u001b[0m \u001b[43mf\u001b[49m\u001b[43m[\u001b[49m\u001b[43m:\u001b[49m\u001b[43m:\u001b[49m\u001b[38;5;241;43m-\u001b[39;49m\u001b[38;5;241;43m1\u001b[39;49m\u001b[43m]\u001b[49m\n",
      "\u001b[0;31mTypeError\u001b[0m: 'set' object is not subscriptable"
     ]
    }
   ],
   "source": [
    "f[::-1]"
   ]
  },
  {
   "cell_type": "code",
   "execution_count": 28,
   "id": "45ea9c70-043d-4cef-94ef-78a8bb16c2de",
   "metadata": {},
   "outputs": [
    {
     "data": {
      "text/plain": [
       "{3, 3535, 454544, 464, 6, 63535, 64, 6464, 'king'}"
      ]
     },
     "execution_count": 28,
     "metadata": {},
     "output_type": "execute_result"
    }
   ],
   "source": [
    "f"
   ]
  },
  {
   "cell_type": "code",
   "execution_count": 29,
   "id": "f73b2f69-faac-41a2-bbc5-2f008acb5e75",
   "metadata": {},
   "outputs": [],
   "source": [
    "f.add('fbfbd')"
   ]
  },
  {
   "cell_type": "code",
   "execution_count": 30,
   "id": "219847d3-6366-4556-9f2d-01963fd95e7d",
   "metadata": {},
   "outputs": [
    {
     "data": {
      "text/plain": [
       "{3, 3535, 454544, 464, 6, 63535, 64, 6464, 'fbfbd', 'king'}"
      ]
     },
     "execution_count": 30,
     "metadata": {},
     "output_type": "execute_result"
    }
   ],
   "source": [
    "f"
   ]
  },
  {
   "cell_type": "code",
   "execution_count": 31,
   "id": "832c3294-3452-455e-9eaa-8185bccfc6e0",
   "metadata": {},
   "outputs": [],
   "source": [
    "f.remove(64)"
   ]
  },
  {
   "cell_type": "code",
   "execution_count": 32,
   "id": "c74029f9-a878-4dae-ba1c-92474dc8109d",
   "metadata": {},
   "outputs": [
    {
     "data": {
      "text/plain": [
       "{3, 3535, 454544, 464, 6, 63535, 6464, 'fbfbd', 'king'}"
      ]
     },
     "execution_count": 32,
     "metadata": {},
     "output_type": "execute_result"
    }
   ],
   "source": [
    "f"
   ]
  },
  {
   "cell_type": "code",
   "execution_count": 33,
   "id": "3a379235-20fa-491a-9ad5-58c6e8b9ffcd",
   "metadata": {},
   "outputs": [],
   "source": [
    "f.discard(3)"
   ]
  },
  {
   "cell_type": "code",
   "execution_count": 34,
   "id": "3b960e32-ae92-4f8a-b0a2-95b4186bec1a",
   "metadata": {},
   "outputs": [
    {
     "data": {
      "text/plain": [
       "{3535, 454544, 464, 6, 63535, 6464, 'fbfbd', 'king'}"
      ]
     },
     "execution_count": 34,
     "metadata": {},
     "output_type": "execute_result"
    }
   ],
   "source": [
    "f"
   ]
  },
  {
   "cell_type": "code",
   "execution_count": null,
   "id": "4524d0b5-4bb7-4259-acbb-1195cdcaade5",
   "metadata": {},
   "outputs": [],
   "source": []
  }
 ],
 "metadata": {
  "kernelspec": {
   "display_name": "Python 3 (ipykernel)",
   "language": "python",
   "name": "python3"
  },
  "language_info": {
   "codemirror_mode": {
    "name": "ipython",
    "version": 3
   },
   "file_extension": ".py",
   "mimetype": "text/x-python",
   "name": "python",
   "nbconvert_exporter": "python",
   "pygments_lexer": "ipython3",
   "version": "3.10.8"
  }
 },
 "nbformat": 4,
 "nbformat_minor": 5
}
